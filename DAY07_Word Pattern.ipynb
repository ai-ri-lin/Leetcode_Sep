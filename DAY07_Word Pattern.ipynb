{
 "cells": [
  {
   "cell_type": "code",
   "execution_count": 1,
   "metadata": {},
   "outputs": [],
   "source": [
    "# Example 1:\n",
    "\n",
    "# Input: pattern = \"abba\", str = \"dog cat cat dog\"\n",
    "# Output: true\n",
    "# Example 2:\n",
    "\n",
    "# Input:pattern = \"abba\", str = \"dog cat cat fish\"\n",
    "# Output: false\n",
    "# Example 3:\n",
    "\n",
    "# Input: pattern = \"aaaa\", str = \"dog cat cat dog\"\n",
    "# Output: false\n",
    "# Example 4:\n",
    "\n",
    "# Input: pattern = \"abba\", str = \"dog dog dog dog\"\n",
    "# Output: false\n",
    "\n",
    "class Solution(object):\n",
    "    def wordPattern(self, pattern, str):\n",
    "        \"\"\"\n",
    "        :type pattern: str\n",
    "        :type str: str\n",
    "        :rtype: bool\n",
    "        \"\"\"\n",
    "        \n",
    "        txt = str.split(\" \")\n",
    "        dic = {}        \n",
    "        \n",
    "        if  len(txt) <> len(pattern):\n",
    "          \n",
    "            return False\n",
    "        \n",
    " \n",
    "        for i, letter in enumerate(pattern):\n",
    "            if letter in dic:\n",
    "                if dic[letter] != txt[i]:\n",
    "                    return False\n",
    "            else:\n",
    "                if txt[i] not in dic.values():\n",
    "                    dic[letter] = txt[i]\n",
    "                else:\n",
    "                    return False\n",
    "        return True"
   ]
  }
 ],
 "metadata": {
  "kernelspec": {
   "display_name": "Python 3",
   "language": "python",
   "name": "python3"
  },
  "language_info": {
   "codemirror_mode": {
    "name": "ipython",
    "version": 3
   },
   "file_extension": ".py",
   "mimetype": "text/x-python",
   "name": "python",
   "nbconvert_exporter": "python",
   "pygments_lexer": "ipython3",
   "version": "3.7.3"
  }
 },
 "nbformat": 4,
 "nbformat_minor": 2
}
