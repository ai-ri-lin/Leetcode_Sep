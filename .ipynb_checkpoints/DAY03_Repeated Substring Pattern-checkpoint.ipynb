{
 "cells": [
  {
   "cell_type": "code",
   "execution_count": 110,
   "metadata": {
    "scrolled": true
   },
   "outputs": [
    {
     "name": "stdout",
     "output_type": "stream",
     "text": [
      "3\n",
      "abc\n",
      "abca\n",
      "6\n",
      "abc\n",
      "abc\n",
      "True\n"
     ]
    }
   ],
   "source": [
    "# Example 1:\n",
    "\n",
    "# Input: \"abab\"\n",
    "# Output: True\n",
    "# Explanation: It's the substring \"ab\" twice.\n",
    "# Example 2:\n",
    "\n",
    "# Input: \"aba\"\n",
    "# Output: False\n",
    "# Example 3:\n",
    "\n",
    "# Input: \"abcabcabcabc\"\n",
    "# Output: True\n",
    "# Explanation: It's the substring \"abc\" four times. (And the substring \"abcabc\" twice.)\n",
    "\n",
    "class Solution(object):\n",
    "    def repeatedSubstringPattern(self, s):\n",
    "        \"\"\"\n",
    "        :type s: str\n",
    "        :rtype: bool\n",
    "        \"\"\"\n",
    "        trueLetter = set(s)\n",
    "        possiblePos = []\n",
    "        sequence = \"\"\n",
    "        qoutient = 0\n",
    "        if len(s) == len(s)/len(trueLetter):\n",
    "            return True\n",
    "        \n",
    "        for ind in range(len(s)):\n",
    "            if s[ind]==s[-1] and len(s) % (ind+1) == 0 and ind+1 >= len(set(s)) and ind < (len(s) / 2) :      \n",
    "                qoutient = int(len(s) / (ind+1))\n",
    "                for seq_start in range(ind+1,len(s)+1,(ind+1)):\n",
    "                    print(seq_start)\n",
    "                    print(s[:ind+1])\n",
    "                    print(s[seq_start-(ind+1):seq_start+1])\n",
    "                    if s[:ind+1] == s[seq_start-(ind+1):seq_start+1]:\n",
    "                         if seq_start == len(s):\n",
    "                            return True\n",
    "                    else:\n",
    "                        pass\n",
    "                         #break\n",
    "        return False\n",
    "    \n",
    "Q = Solution()\n",
    "out = Q.repeatedSubstringPattern(\"abcabc\")\n",
    "print(out)               \n",
    "        "
   ]
  },
  {
   "cell_type": "code",
   "execution_count": 123,
   "metadata": {},
   "outputs": [
    {
     "name": "stdout",
     "output_type": "stream",
     "text": [
      "2\n",
      "ab\n",
      "ab\n",
      "True\n"
     ]
    }
   ],
   "source": [
    "class Solution(object):\n",
    "    def repeatedSubstringPattern(self, s):\n",
    "        \"\"\"\n",
    "        :type s: str\n",
    "        :rtype: bool\n",
    "        \"\"\"\n",
    "        trueLetter = set(s)\n",
    "        lenS = len(s)\n",
    "        seq = []\n",
    "        if lenS == lenS / len(trueLetter):\n",
    "            if len(s) != 1:\n",
    "                return True\n",
    "            else:\n",
    "                return False \n",
    "        \n",
    "        for ind in range(len(set(s))-1,lenS/2,1):\n",
    "            if s[ind]==s[-1] and lenS % (ind+1) == 0:      \n",
    "                seq = s[:ind+1]\n",
    "                seq_start = ind+1\n",
    "                while(1):\n",
    "                    if seq == s[seq_start:seq_start+ind+1]:\n",
    "                         if seq_start+ind+1 == lenS:\n",
    "                            return True\n",
    "                    else:\n",
    "                         break\n",
    "                            \n",
    "                    seq_start = seq_start + ind + 1\n",
    "                    \n",
    "                    if seq_start+ind+1 > lenS:\n",
    "                        break\n",
    "        return False\n",
    "Q = Solution()\n",
    "out = Q.repeatedSubstringPattern(\"abab\")\n",
    "print(out)  "
   ]
  }
 ],
 "metadata": {
  "kernelspec": {
   "display_name": "Python 3",
   "language": "python",
   "name": "python3"
  },
  "language_info": {
   "codemirror_mode": {
    "name": "ipython",
    "version": 3
   },
   "file_extension": ".py",
   "mimetype": "text/x-python",
   "name": "python",
   "nbconvert_exporter": "python",
   "pygments_lexer": "ipython3",
   "version": "3.7.3"
  }
 },
 "nbformat": 4,
 "nbformat_minor": 2
}
