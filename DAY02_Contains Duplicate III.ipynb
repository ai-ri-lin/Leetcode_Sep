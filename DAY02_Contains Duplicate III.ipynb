{
 "cells": [
  {
   "cell_type": "code",
   "execution_count": 36,
   "metadata": {},
   "outputs": [
    {
     "name": "stdout",
     "output_type": "stream",
     "text": [
      "True\n"
     ]
    }
   ],
   "source": [
    "class Solution(object):\n",
    "    def containsNearbyAlmostDuplicate(self, nums, k, t):\n",
    "        \"\"\"\n",
    "        :type nums: List[int]\n",
    "        :type k: int\n",
    "        :type t: int\n",
    "        :rtype: bool\n",
    "        [1,0,1,1], k = 1, t = 2\n",
    "        \"\"\"\n",
    "        stateOut = False\n",
    "        stateBound = False\n",
    "        numLen = len(nums)\n",
    " \n",
    "        i = 0\n",
    "        j = 1\n",
    "        if t==0 and len(set(nums)) == len(nums):\n",
    "            return False\n",
    "            \n",
    "        while(stateOut == False):\n",
    "            if i >= numLen:\n",
    "                break\n",
    "           \n",
    "            while(stateBound == False):  \n",
    "                if  j > k or i+j >= numLen:\n",
    "                    stateBound = True\n",
    "                    break   \n",
    "                if  abs(nums[i]-nums[i+j]) <= t:\n",
    "                    stateBound = True\n",
    "                    stateOut = True\n",
    "                else:\n",
    "                    j = j + 1\n",
    "               \n",
    " \n",
    "            j = 1 \n",
    "            i = i + 1\n",
    "            stateBound = False\n",
    "            \n",
    "        return stateOut\n",
    "    \n",
    "Q = Solution()\n",
    "out = Q.containsNearbyAlmostDuplicate([1,2,3,1],3,0)\n",
    "print(out)"
   ]
  },
  {
   "cell_type": "code",
   "execution_count": 43,
   "metadata": {},
   "outputs": [
    {
     "name": "stdout",
     "output_type": "stream",
     "text": [
      "0\n",
      "1\n",
      "True\n"
     ]
    }
   ],
   "source": [
    "#best1\n",
    "class Solution(object):\n",
    "    def containsNearbyAlmostDuplicate(self, nums, k, t):\n",
    "        \"\"\"\n",
    "        :type nums: List[int]\n",
    "        :type k: int\n",
    "        :type t: int\n",
    "        :rtype: bool\n",
    "        \"\"\"\n",
    "\n",
    "        if t == 0 and len(nums) == len( set(nums) ):\n",
    "\n",
    "            # Quick response for special case on t = 0\n",
    "            # t = 0 requires at least one pair of duplicate elements\n",
    "            return False\n",
    "        for i in range(len(nums)):\n",
    "            for j in range(i+1, i+k+1):\n",
    "                if j < len(nums) and abs(nums[i]-nums[j]) <= t:\n",
    "                    return True\n",
    "            \n",
    "        return False\n",
    "\n",
    "Q = Solution()\n",
    "out = Q.containsNearbyAlmostDuplicate([1,2,3,4,2],3,0)\n",
    "print(out)"
   ]
  },
  {
   "cell_type": "code",
   "execution_count": 49,
   "metadata": {},
   "outputs": [
    {
     "name": "stdout",
     "output_type": "stream",
     "text": [
      "{1: 0}\n",
      "{1: 0, 2: 1}\n",
      "{1: 0, 2: 1}\n",
      "{1: 0, 2: 1, 3: 2}\n",
      "{1: 0, 2: 1, 3: 2}\n",
      "{1: 0, 2: 1, 3: 2}\n",
      "{1: 0, 2: 1, 3: 2, 4: 3}\n",
      "{1: 0, 2: 1, 3: 2, 4: 3}\n",
      "True\n"
     ]
    }
   ],
   "source": [
    "#best2\n",
    "class Solution(object):\n",
    "    def containsNearbyAlmostDuplicate(self, nums, k, t):\n",
    "        \"\"\"\n",
    "        :type nums: List[int]\n",
    "        :type k: int\n",
    "        :type t: int\n",
    "        :rtype: bool\n",
    "        \"\"\"\n",
    "        if t == 0 and len(nums) == len(set(nums)):\n",
    "            return False\n",
    "        dic = {}\n",
    "\n",
    "        for i in range(len(nums)):\n",
    "            for key in dic.keys():\n",
    "                print(dic)\n",
    "                if abs(key - nums[i]) <= t and abs(dic[key] - i) <= k:\n",
    "                    return True\n",
    "            dic[nums[i]] = i\n",
    "        return False\n",
    "\n",
    "Q = Solution()\n",
    "out = Q.containsNearbyAlmostDuplicate([1,2,3,4,2],3,0)\n",
    "print(out)"
   ]
  }
 ],
 "metadata": {
  "kernelspec": {
   "display_name": "Python 3",
   "language": "python",
   "name": "python3"
  },
  "language_info": {
   "codemirror_mode": {
    "name": "ipython",
    "version": 3
   },
   "file_extension": ".py",
   "mimetype": "text/x-python",
   "name": "python",
   "nbconvert_exporter": "python",
   "pygments_lexer": "ipython3",
   "version": "3.7.6"
  }
 },
 "nbformat": 4,
 "nbformat_minor": 4
}
