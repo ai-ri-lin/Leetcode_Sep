{
 "cells": [
  {
   "cell_type": "code",
   "execution_count": 2,
   "metadata": {},
   "outputs": [],
   "source": [
    "#A string S of lowercase English letters is given.\n",
    "# We want to partition this string into as many parts as possible \n",
    "# so that each letter appears in at most one part\n",
    "# and return a list of integers representing the size of these parts.\n",
    "\n",
    "# Example 1:\n",
    "\n",
    "# Input: S = \"ababcbacadefegdehijhklij\"\n",
    "# Output: [9,7,8]\n",
    "# Explanation:\n",
    "# The partition is \"ababcbaca\", \"defegde\", \"hijhklij\".\n",
    "# This is a partition so that each letter appears in at most one part.\n",
    "# A partition like \"ababcbacadefegde\", \"hijhklij\" is incorrect, because it splits S into less parts.\n",
    "\n",
    "class Solution(object):\n",
    "    def partitionLabels(self, S):\n",
    "        \"\"\"\n",
    "        :type S: str\n",
    "        :rtype: List[int]\n",
    "        \"\"\"\n",
    "        rS = S[::-1]\n",
    "        lowerPos = []\n",
    "        upperPos = []\n",
    "        finalSize = []\n",
    "        trueLetter = \"\" \n",
    "        for letter in S:\n",
    "            if letter not in trueLetter:\n",
    "                trueLetter +=  letter\n",
    "                lowerPos.append(S.index(letter))\n",
    "                upperPos.append(len(S) - rS.index(letter) - 1)\n",
    "        \n",
    "            \n",
    "        pivotU = upperPos[0]\n",
    "        pivotL = lowerPos[0]\n",
    "\n",
    "        for ind in range(len(lowerPos)):\n",
    "            if pivotU < upperPos[ind]:\n",
    "                if pivotU < lowerPos[ind]:\n",
    "                    finalSize.append(pivotU-pivotL+1)\n",
    "                    pivotU = upperPos[ind]\n",
    "                    pivotL = lowerPos[ind]\n",
    "                else:\n",
    "                    pivotU = upperPos[ind]\n",
    "                    \n",
    "        finalSize.append(pivotU-pivotL+1)\n",
    "        return finalSize\n",
    "            "
   ]
  },
  {
   "cell_type": "code",
   "execution_count": null,
   "metadata": {},
   "outputs": [],
   "source": [
    "#如果最高有高於其他上限就跳過\n",
    "#沒有高於的話\n",
    " #如果下限也高於就跳過\n",
    " #如果下限低於就以該上限為主則繼續找\n"
   ]
  }
 ],
 "metadata": {
  "kernelspec": {
   "display_name": "Python 3",
   "language": "python",
   "name": "python3"
  },
  "language_info": {
   "codemirror_mode": {
    "name": "ipython",
    "version": 3
   },
   "file_extension": ".py",
   "mimetype": "text/x-python",
   "name": "python",
   "nbconvert_exporter": "python",
   "pygments_lexer": "ipython3",
   "version": "3.7.3"
  }
 },
 "nbformat": 4,
 "nbformat_minor": 2
}
