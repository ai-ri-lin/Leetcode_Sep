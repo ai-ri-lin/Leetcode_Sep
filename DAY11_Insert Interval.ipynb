{
 "cells": [
  {
   "cell_type": "code",
   "execution_count": null,
   "metadata": {},
   "outputs": [],
   "source": [
    "# Given a set of non-overlapping intervals, insert a new interval into the intervals (merge if necessary).\n",
    "\n",
    "# You may assume that the intervals were initially sorted according to their start times.\n",
    "\n",
    "# Example 1:\n",
    "\n",
    "# Input: intervals = [[1,3],[6,9]], newInterval = [2,5]\n",
    "# Output: [[1,5],[6,9]]\n",
    "# Example 2:\n",
    "\n",
    "# Input: intervals = [[1,2],[3,5],[6,7],[8,10],[12,16]], newInterval = [4,8]\n",
    "# Output: [[1,2],[3,10],[12,16]]\n",
    "# Explanation: Because the new interval [4,8] overlaps with [3,5],[6,7],[8,10].\n",
    "\n",
    "import itertools\n",
    "\n",
    "class Solution(object):\n",
    "    def combinationSum3(self, k, n):\n",
    "        \"\"\"\n",
    "        :type k: int\n",
    "        :type n: int\n",
    "        :rtype: List[List[int]]\n",
    "        \"\"\"\n",
    "       \n",
    "        minimum = (1 + k) * k / 2\n",
    "        result = []\n",
    "       \n",
    "        if n > 9:\n",
    "            temp = 9\n",
    "        else:\n",
    "            temp = n - (minimum-k)\n",
    "\n",
    "        if minimum > n:\n",
    "            return []\n",
    "        elif minimum == n:\n",
    "            result.append([x+1 for x in range(k)])\n",
    "            \n",
    "        else:\n",
    "            stuff = [x+1 for x in range(temp)]\n",
    "            subset = itertools.combinations(stuff,k)\n",
    "        \n",
    "            if not subset:\n",
    "                return []\n",
    "            for sub in subset:\n",
    "                if sum(sub) == n:\n",
    "                    result.append(sub)\n",
    "\n",
    "        return result\n",
    "\n"
   ]
  }
 ],
 "metadata": {
  "kernelspec": {
   "display_name": "Python 3",
   "language": "python",
   "name": "python3"
  },
  "language_info": {
   "codemirror_mode": {
    "name": "ipython",
    "version": 3
   },
   "file_extension": ".py",
   "mimetype": "text/x-python",
   "name": "python",
   "nbconvert_exporter": "python",
   "pygments_lexer": "ipython3",
   "version": "3.7.3"
  }
 },
 "nbformat": 4,
 "nbformat_minor": 2
}
