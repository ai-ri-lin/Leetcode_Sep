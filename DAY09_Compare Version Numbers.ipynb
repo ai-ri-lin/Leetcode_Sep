{
 "cells": [
  {
   "cell_type": "code",
   "execution_count": 23,
   "metadata": {},
   "outputs": [
    {
     "name": "stdout",
     "output_type": "stream",
     "text": [
      "[]\n",
      "\n",
      "-1\n"
     ]
    }
   ],
   "source": [
    "# Compare two version numbers version1 and version2.\n",
    "# If version1 > version2 return 1; if version1 < version2 return -1;otherwise return 0.\n",
    "\n",
    "# You may assume that the version strings are non-empty and contain only digits and the . character.\n",
    "\n",
    "# The . character does not represent a decimal point and is used to separate number sequences.\n",
    "\n",
    "# For instance, 2.5 is not \"two and a half\" or \"half way to version three\", it is the fifth second-level revision of the second first-level revision.\n",
    "\n",
    "# You may assume the default revision number for each level of a version number to be 0. For example, version number 3.4 has a revision number of 3 and 4 for its first and second level revision number. Its third and fourth level revision number are both 0.\n",
    "\n",
    " \n",
    "\n",
    "# Example 1:\n",
    "\n",
    "# Input: version1 = \"0.1\", version2 = \"1.1\"\n",
    "# Output: -1\n",
    "# Example 2:\n",
    "\n",
    "# Input: version1 = \"1.0.1\", version2 = \"1\"\n",
    "# Output: 1\n",
    "# Example 3:\n",
    "\n",
    "# Input: version1 = \"7.5.2.4\", version2 = \"7.5.3\"\n",
    "# Output: -1\n",
    "# Example 4:\n",
    "\n",
    "# Input: version1 = \"1.01\", version2 = \"1.001\"\n",
    "# Output: 0\n",
    "# Explanation: Ignoring leading zeroes, both “01” and “001\" represent the same number “1”\n",
    "class Solution(object):\n",
    "    def compareVersion(self, version1, version2):\n",
    "        \"\"\"\n",
    "        :type version1: str\n",
    "        :type version2: str\n",
    "        :rtype: int\n",
    "        \"\"\"\n",
    "              \n",
    "        while(version1 or version2):\n",
    "            var1 = version1.split(\".\",1)\n",
    "            var2 = version2.split(\".\",1)\n",
    "            v1 = var1.pop(0)\n",
    "            v2 = var2.pop(0)\n",
    "            if not v1: \n",
    "                v1 = 0\n",
    "            elif not v2:\n",
    "                v2 = 0\n",
    "                \n",
    "            if int(v1) > int(v2):\n",
    "                return 1\n",
    "            elif int(v1) < int(v2):\n",
    "                return -1\n",
    "            \n",
    "            version1 = \"\".join(var1)\n",
    "            version2 = \"\".join(var2)\n",
    "        \n",
    "    \n",
    "        \n",
    "        if len(version1) == 1:\n",
    "            return 1\n",
    "        elif len(version2) == 1:\n",
    "            return -1\n",
    "        else:\n",
    "            return 0"
   ]
  }
 ],
 "metadata": {
  "kernelspec": {
   "display_name": "Python 3",
   "language": "python",
   "name": "python3"
  },
  "language_info": {
   "codemirror_mode": {
    "name": "ipython",
    "version": 3
   },
   "file_extension": ".py",
   "mimetype": "text/x-python",
   "name": "python",
   "nbconvert_exporter": "python",
   "pygments_lexer": "ipython3",
   "version": "3.7.3"
  }
 },
 "nbformat": 4,
 "nbformat_minor": 2
}
