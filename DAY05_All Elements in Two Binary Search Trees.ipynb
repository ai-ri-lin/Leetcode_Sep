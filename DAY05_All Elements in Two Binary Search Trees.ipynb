{
 "cells": [
  {
   "cell_type": "code",
   "execution_count": null,
   "metadata": {},
   "outputs": [],
   "source": [
    "# Given two binary search trees root1 and root2.\n",
    "\n",
    "# Return a list containing all the integers from both trees sorted in ascending order.\n",
    "\n",
    "# Input: root1 = [2,1,4], root2 = [1,0,3]\n",
    "# Output: [0,1,1,2,3,4]\n",
    "\n",
    "# Definition for a binary tree node.\n",
    "# class TreeNode(object):\n",
    "#     def __init__(self, val=0, left=None, right=None):\n",
    "#         self.val = val\n",
    "#         self.left = left\n",
    "#         self.right = right\n",
    "class Solution(object):\n",
    "    def create_list(tree, templist=[]):\n",
    "    \"\"\"\n",
    "    >>> tree = BinaryTree(2, BinaryTree(29, BinaryTree(26)), BinaryTree(4, None, BinaryTree(2, BinaryTree(9))))\n",
    "    >>> create_list(tree)\n",
    "    [2, 29, 4, 26, None, None, 2, None, None, None, None, None, None, 9, None]\n",
    "\n",
    "    \"\"\"\n",
    "    items = []\n",
    "    queue = [tree]\n",
    "\n",
    "    while queue:\n",
    "        copy = queue[:]\n",
    "        queue = []\n",
    "\n",
    "        for item in copy:\n",
    "            if item is None:\n",
    "                items.append(None)\n",
    "                queue.append(None)\n",
    "                queue.append(None)\n",
    "            else:\n",
    "                items.append(item.key)\n",
    "                queue.append(item.left)\n",
    "                queue.append(item.right)\n",
    "\n",
    "        if all((x is None for x in queue)):\n",
    "            break\n",
    "\n",
    "    return items\n",
    "\n",
    "    def getAllElements(self, root1, root2):\n",
    "        \"\"\"\n",
    "        :type root1: TreeNode\n",
    "        :type root2: TreeNode\n",
    "        :rtype: List[int]\n",
    "        \"\"\"\n",
    "        \n",
    "        list1 = Solution.create_tree(root1)\n",
    "        list2 = Solution.create_tree(root2)\n",
    "        list1.append(list)\n",
    "        \n",
    "    return sorted(list1)\n"
   ]
  }
 ],
 "metadata": {
  "kernelspec": {
   "display_name": "Python 3",
   "language": "python",
   "name": "python3"
  },
  "language_info": {
   "codemirror_mode": {
    "name": "ipython",
    "version": 3
   },
   "file_extension": ".py",
   "mimetype": "text/x-python",
   "name": "python",
   "nbconvert_exporter": "python",
   "pygments_lexer": "ipython3",
   "version": "3.7.3"
  }
 },
 "nbformat": 4,
 "nbformat_minor": 2
}
