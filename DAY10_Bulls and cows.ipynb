{
 "cells": [
  {
   "cell_type": "code",
   "execution_count": null,
   "metadata": {},
   "outputs": [],
   "source": [
    "# You are playing the following Bulls and Cows game with your friend: You write down a number and ask your friend to guess what the number is. Each time your friend makes a guess, you provide a hint that indicates how many digits in said guess match your secret number exactly in both digit and position (called \"bulls\") and how many digits match the secret number but locate in the wrong position (called \"cows\"). Your friend will use successive guesses and hints to eventually derive the secret number.\n",
    "\n",
    "# Write a function to return a hint according to the secret number and friend's guess, use A to indicate the bulls and B to indicate the cows. \n",
    "\n",
    "# Please note that both secret number and friend's guess may contain duplicate digits.\n",
    "\n",
    "# Example 1:\n",
    "\n",
    "# Input: secret = \"1807\", guess = \"7810\"\n",
    "\n",
    "# Output: \"1A3B\"\n",
    "\n",
    "# Explanation: 1 bull and 3 cows. The bull is 8, the cows are 0, 1 and 7.\n",
    "class Solution(object):\n",
    "    def getHint(self, secret, guess):\n",
    "        \"\"\"\n",
    "        :type secret: str\n",
    "        :type guess: str\n",
    "        :rtype: str\n",
    "        \"\"\"\n",
    "        list_s = list(secret)\n",
    "        list_g = list(guess)\n",
    "        A = 0\n",
    "        B = 0\n",
    "\n",
    "        for i in range(len(list_s)-1,-1,-1):\n",
    "            if list_g[i] == list_s[i]:\n",
    "                A = A + 1\n",
    "                list_s.pop(i)\n",
    "                list_g.pop(i)\n",
    "        for i in range(len(list_s)-1,-1,-1):    \n",
    "            if list_g[i] in list_s:\n",
    "                B = B + 1\n",
    "                ind = list_s.index(list_g[i])\n",
    "                list_s[ind] = -1\n",
    "\n",
    "        return str(A) + 'A' + str(B) + 'B'\n",
    "                "
   ]
  }
 ],
 "metadata": {
  "kernelspec": {
   "display_name": "Python 3",
   "language": "python",
   "name": "python3"
  },
  "language_info": {
   "codemirror_mode": {
    "name": "ipython",
    "version": 3
   },
   "file_extension": ".py",
   "mimetype": "text/x-python",
   "name": "python",
   "nbconvert_exporter": "python",
   "pygments_lexer": "ipython3",
   "version": "3.7.3"
  }
 },
 "nbformat": 4,
 "nbformat_minor": 2
}
